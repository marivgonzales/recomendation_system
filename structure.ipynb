{
 "cells": [
  {
   "cell_type": "markdown",
   "metadata": {},
   "source": [
    "# Projeto de sistema de recomendação de filmes\n",
    "\n",
    "Este projeto é parte integrante de teste técnico para vaga de Data Scientist no Elo7.\n",
    "\n",
    "Os sistemas de recomendação são sistemas que aprendem com as avaliações dos usuários a recomendar novos produtos ou serviços de acordo com a suas preferências. Assim, um sistema de recomendação de filmes tem como objetivo sugerir filmes de maior interesse para o usuário de forma que ele encontre mais fácil filmes que lhe agradam e proporcione uma experiência mais rápida e cômoda na busca.\n",
    "\n",
    "Nosso objetivo neste projeto é desenvolver um sistema de recomendação de filmes baseado nas avaliações dos usuários coletadas pelo GroupLens Reasearch Group. Mais informações sobre o dataset pode ser obtida aqui: https://grouplens.org/datasets/movielens/20m/"
   ]
  },
  {
   "cell_type": "markdown",
   "metadata": {},
   "source": [
    "## Passo 1\n",
    "\n",
    "Download e leitura do dataset. \n",
    "\n",
    "Os arquivos '.csv' são alocados em DataFrames da biblioteca Pandas e posteriormente os conjuntos de dados referentes aos títulos dos filmes e avaliações dadas por cada usuário são unidos pelo método \"merge\" da biblioteca Pandas."
   ]
  },
  {
   "cell_type": "markdown",
   "metadata": {},
   "source": [
    "## Passo 2\n",
    "\n",
    "A análise exploratória dos dados será feita também com uso da biblioteca Pandas de modo a responder algumas perguntas, são elas:\n",
    "\n",
    "* Existe alguma relação entre o gênero do filme e o padrão de avaliação dos usuários?\n",
    "\n",
    "* Existe correlação entre os gêneros de filme? \n",
    "\n",
    "* Usuários que gostam de um gênero também gostam de outro(s)?\n",
    "\n",
    "Para responder a tais perguntas geramos um conjunto de dados construído a partir da contagem de quantos filmes cada usuário assitiu em cada gênero. Esse DataFrame possui então o número de avaliações dadas por cada usuário para cada gênero. A partir destes dados então, podemos verificar quantos e quais os gêneros mais assistidos por cada usuário."
   ]
  },
  {
   "cell_type": "markdown",
   "metadata": {},
   "source": [
    "## Passo 3\n",
    "\n",
    "Determinação da estrutura do sistema de recomendação a ser utilizado, vantagens e desvantagens.\n",
    "\n",
    "A estruduta do sistema consistirá em duas etapas:\n",
    "\n",
    "1. A identificação dos gêneros mais avaliados para cada usuário nós permite inferir de certa maneira os filmes que ele sentiu atraído a assistir e avaliou posteriormente. Desta forma, podemos utilizar essa informação para filtrar a lista de filmes de maneira a oferecer somente filmes dos mesmos gêneros que o usuário já acha atrativo, independente da sua avaliação posterior.\n",
    "\n",
    "2. As avaliações seriam utlizadas em uma segunda etapa, onde, tendo uma lista de títulos que apresentam os mesmos gêneros que o usuário acha atrativo, seriam sugeridos somente os filmes mais bem avaliados pelo universo de usuários.\n",
    "\n",
    "Desta forma seriam sugeridos ao usuário filmes de gêneros que ele já avaliou e, portanto, já achou atrativo em algum momento e assistiu. E também seriam sugeridos somente filmes que já foram bem avaliados por um universo de usuários. A desvantagem desta abordagem é que ela não leva em consideração as avaliações do usuário em questão, o que pode comprometer o desempenho do classificador em casos de usuários que escolhem e assistem filmes de todos os gêneros."
   ]
  },
  {
   "cell_type": "markdown",
   "metadata": {},
   "source": [
    "## Passo 4\n",
    "\n",
    "Fases do sistema de recomendação:\n",
    "\n",
    "* Identificação dos gêneros importantes para cada usuário;\n",
    "\n",
    "* Seleção de filmes que possuem tais gêneros;\n",
    "\n",
    "* Rakeamento de tais filmes de acordo com as avaliações do universo de usuários;\n",
    "\n",
    "* Finalmente, o sistema sugere os filmes que obtiveram melhor posição no ranking."
   ]
  },
  {
   "cell_type": "markdown",
   "metadata": {},
   "source": [
    "## Passo 5\n",
    "\n",
    "Teste com alguns usuários."
   ]
  },
  {
   "cell_type": "markdown",
   "metadata": {},
   "source": [
    "## Passo 6\n",
    "\n",
    "Avaliação do sistema de recomendação."
   ]
  },
  {
   "cell_type": "code",
   "execution_count": null,
   "metadata": {
    "collapsed": true
   },
   "outputs": [],
   "source": []
  }
 ],
 "metadata": {
  "kernelspec": {
   "display_name": "Python 3",
   "language": "python",
   "name": "python3"
  },
  "language_info": {
   "codemirror_mode": {
    "name": "ipython",
    "version": 3
   },
   "file_extension": ".py",
   "mimetype": "text/x-python",
   "name": "python",
   "nbconvert_exporter": "python",
   "pygments_lexer": "ipython3",
   "version": "3.6.1"
  }
 },
 "nbformat": 4,
 "nbformat_minor": 2
}
