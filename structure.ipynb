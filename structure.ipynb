{
 "cells": [
  {
   "cell_type": "markdown",
   "metadata": {},
   "source": [
    "# Projeto de sistema de recomendação de filmes\n",
    "\n",
    "Este projeto é parte integrante de teste técnico para vaga de Data Scientist no Elo7.\n",
    "\n",
    "Os sistemas de recomendação são sistemas que aprendem com as avaliações dos usuários a recomendar novos produtos ou serviços de acordo com a suas preferências. Assim, um sistema de recomendação de filmes tem como objetivo sugerir filmes de maior interesse para o usuário de forma que ele encontre mais fácil filmes que lhe agradam e proporcione uma experiência mais rápida e cômoda na busca.\n",
    "\n",
    "Nosso objetivo neste projeto é desenvolver um sistema de recomendação de filmes baseado nas avaliações dos usuários coletadas pelo GroupLens Reasearch Group. Mais informações sobre o dataset pode ser obtida aqui: https://grouplens.org/datasets/movielens/20m/"
   ]
  },
  {
   "cell_type": "markdown",
   "metadata": {},
   "source": [
    "## Passo 1\n",
    "\n",
    "##### Download e leitura do dataset. \n",
    "\n",
    "Os arquivos '.csv' são alocados em DataFrames da biblioteca Pandas.\n",
    "\n",
    "Os conjuntos de dados referentes aos títulos dos filmes e avaliações dadas por cada usuário são unidos em um único DataFrame da biblioteca Pandas.\n",
    "\n",
    "Também devem ser separados aqui dois conjuntos:\n",
    "\n",
    "* Um conjunto a ser utilizado para aprender e dar as recomendações, este conjunto deve ser maior e será chamado de conjunto de treino, ou conjunto base.\n",
    "\n",
    "* Um conjunto menor , chamado conjunto de teste, que será utilizado para avaliar o sistema de recomendações.\n",
    "\n",
    "Essa separação deverá ser feita de forma a manter a proporção de avaliações para cada usuário."
   ]
  },
  {
   "cell_type": "markdown",
   "metadata": {},
   "source": [
    "## Passo 2\n",
    "\n",
    "##### A análise exploratória dos dados. \n",
    "\n",
    "* Qual a importância do gênero na escolha do filme pelo usuário?\n",
    "\n",
    "* Existe alguma relação entre o gênero do filme e o padrão de avaliação dos usuários?\n",
    "\n",
    "* Existe correlação entre os gêneros de filme? \n",
    "\n",
    "* Usuários que gostam de um gênero também gostam de outro(s)?\n",
    "\n",
    "* Definir um índice de importância do gênero baseado no número de avaliações para cada gênero.\n",
    "\n",
    "Para responder a tais perguntas geramos um conjunto de dados construído a partir da contagem de quantos filmes cada usuário assitiu em cada gênero. Esse DataFrame possui então o número de avaliações dadas por cada usuário para cada gênero. A partir destes dados então, podemos verificar quantos e quais os gêneros mais assistidos por cada usuário e suas relações.\n",
    "\n",
    "A relação do gênero com o padrão de avaliação também pode ser observado, verificando a média da avaliação de cada usuário para cada gênero."
   ]
  },
  {
   "cell_type": "markdown",
   "metadata": {},
   "source": [
    "## Passo 3\n",
    "\n",
    "##### Determinação da estrutura do sistema de recomendação a ser utilizado, vantagens e desvantagens.\n",
    "\n",
    "A estrutura do sistema consistirá em duas etapas:\n",
    "\n",
    "1. A identificação do(s) gênero(s) mais avaliado(s) para cada usuário nós permite inferir de certa maneira os filmes que ele sentiu atraído a assistir e avaliou posteriormente. Desta forma, podemos utilizar essa informação para filtrar a lista de filmes de maneira a oferecer somente filmes dos mesmos gêneros que o usuário já acha atrativo, independente da sua avaliação posterior.\n",
    "\n",
    "2. As avaliações seriam utilizadas em uma segunda etapa, onde, tendo uma lista de títulos que apresentam os mesmos gêneros que o usuário acha atrativo, seriam sugeridos somente os filmes mais bem avaliados pelo universo de usuários.\n",
    "\n",
    "Desta forma seriam sugeridos ao usuário filmes de gêneros que ele já avaliou e, portanto, já achou atrativo em algum momento e assistiu. E também seriam sugeridos somente filmes que já foram bem avaliados por um universo de usuários. A desvantagem desta abordagem é que ela não leva em consideração as avaliações do usuário em questão, o que pode comprometer o desempenho do classificador em casos de usuários que escolhem e assistem filmes de todos os gêneros."
   ]
  },
  {
   "cell_type": "markdown",
   "metadata": {},
   "source": [
    "## Passo 4\n",
    "\n",
    "##### Fases do sistema de recomendação:\n",
    "\n",
    "* Identificação dos gêneros importantes para cada usuário (aqui podem ser escolhidos um ou mais gêneros, por exemplo, gêneros que compõem 50% das avaliações);\n",
    "\n",
    "* Seleção de filmes que possuem tal(is) gênero(s);\n",
    "\n",
    "* Rankeamento de tais filmes de acordo com as avaliações do universo de usuários (este universo a princípio contitui de todos os usuários do conjunto de dados, entretanto ele pode selecionar somente os usuários que tem preferência pelos mesmos gêneros que o usuário final) ;\n",
    "\n",
    "* Finalmente, o sistema sugere os filmes que obtiveram melhor posição no ranking."
   ]
  },
  {
   "cell_type": "markdown",
   "metadata": {},
   "source": [
    "## Passo 5\n",
    "\n",
    "Teste com alguns usuários."
   ]
  },
  {
   "cell_type": "markdown",
   "metadata": {},
   "source": [
    "## Passo 6\n",
    "\n",
    "##### Avaliação do sistema de recomendação.\n",
    "\n",
    "A avaliação será feita com o conjunto de dados de teste seguindo a seguinte estrutura:\n",
    "\n",
    "1. Determinar se os filmes sugeridos constam no conjunto de teste para cada usuário.\n",
    "\n",
    "2. Se não houver nenhum filme sugerido no conjunto de teste para cada usuário, verificar quantos destes filmes são do mesmo gênero que os filmes sugeridos. Este número deve ser dividido por 10 e registrado.\n",
    "\n",
    "3. Se houver filmes sugeridos no conjunto de testes, somar o número de estrelas dadas a estes filmes e registrar.\n",
    "\n",
    "4. Os números registrados para cada usuário poderá ser manipulado para se tornar um índice único para avaliação do sistema ou avaliado para todos os usuários correlacionando-os com outros dados como o gênero de preferência, ou ainda ao índice de importância do gênero definido na exploração inicial dos dados."
   ]
  },
  {
   "cell_type": "markdown",
   "metadata": {
    "collapsed": true
   },
   "source": []
  }
 ],
 "metadata": {
  "kernelspec": {
   "display_name": "Python 3",
   "language": "python",
   "name": "python3"
  },
  "language_info": {
   "codemirror_mode": {
    "name": "ipython",
    "version": 3
   },
   "file_extension": ".py",
   "mimetype": "text/x-python",
   "name": "python",
   "nbconvert_exporter": "python",
   "pygments_lexer": "ipython3",
   "version": "3.6.1"
  }
 },
 "nbformat": 4,
 "nbformat_minor": 2
}
