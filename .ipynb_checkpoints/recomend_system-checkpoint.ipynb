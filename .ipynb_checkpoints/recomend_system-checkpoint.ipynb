{
 "cells": [
  {
   "cell_type": "markdown",
   "metadata": {},
   "source": [
    "# Projeto de sistema de recomendação de filmes\n",
    "\n",
    "A estrutura do código e ideias que o motivaram encontra-se no arquivo \"structure.ipynb\".\n",
    "\n",
    "O dataset utilizado é o MovieLens, cujo detalhamento pode ser encontrado no link http://files.grouplens.org/datasets/movielens/ml-20m-README.html\n",
    "\n",
    "\n",
    "## Passo 1) Lendo o dataset\n",
    "\n",
    "\n",
    "Os arquivos são disponibilizados no formato '.csv'. Assim, faremos a leitura dos arquivos com a biblioteca Pandas. \n",
    "\n",
    "Deve, neste ponto, também ser separado um conjunto utilizado para a recomendação e outro para a avaliação do sistema. Com o auxílio da biblioteca Scikit-learn, o método de divisão estratificada será utilizado para manter a proporção de avaliações para todos os usuários em ambos os conjuntos. Eles serão divididos à proporção de 70% treino e 30% teste, ficando com cerca de 14mi de avaliações no conjunto principal e 6mi de avaliações no conjunto de teste."
   ]
  },
  {
   "cell_type": "code",
   "execution_count": null,
   "metadata": {
    "collapsed": true
   },
   "outputs": [],
   "source": [
    "# Importando os pacotes necessários\n",
    "import numpy as np\n",
    "import pandas as pd\n",
    "from sklearn.model_selection import StratifiedShuffleSplit\n",
    "#import matplotlib.pyplot as plt\n",
    "import re\n",
    "\n",
    "#%matplotlib inline"
   ]
  },
  {
   "cell_type": "code",
   "execution_count": null,
   "metadata": {},
   "outputs": [],
   "source": [
    "# Lendo os arquivos\n",
    "ratings = pd.read_csv('ml-20m/ratings.csv')\n",
    "movies = pd.read_csv('ml-20m/movies.csv')\n",
    "#tags = pd.read_csv('ml-20m/tags.csv')\n",
    "\n",
    "# Mesclando os dados dos filmes com as avaliações\n",
    "ratings_movies_all = pd.merge(ratings, movies, on='movieId').drop('timestamp', axis=1)\n",
    "\n",
    "# Separando os índices para os conjuntos de treino e teste\n",
    "split = StratifiedShuffleSplit(n_splits=1,test_size=0.3)\n",
    "indices_train, indices_test = next(split.split(np.zeros(len(ratings_movies_all['userId'])), ratings_movies_all['userId']))\n",
    "\n",
    "# Definindo o conjunto de treino, ou principal\n",
    "ratings_movies = ratings_movies_all.iloc[indices_train]\n",
    "ratings_movies"
   ]
  },
  {
   "cell_type": "code",
   "execution_count": null,
   "metadata": {},
   "outputs": [],
   "source": [
    "# Definindo o conjunto de testes\n",
    "ratings_movies_test = ratings_movies_all.iloc[indices_test]\n",
    "ratings_movies_test"
   ]
  },
  {
   "cell_type": "markdown",
   "metadata": {},
   "source": [
    "## Passo 2) Como explorar os dados?\n",
    "\n",
    "Neste ponto a intenção é conhecer melhor os dados, explorando através de questões. Primeiro respondemos questões simples e mais genéricas, como os 10 filmes com mais avaliações 5 estrelas. Depois partimos para questões mais complexas relacionadas a preferência geral.\n",
    "\n",
    "Deste ponto em diante serão utilizados somente os dados do conjunto de treino para que não haja interferência na avaliação do sistema de recomendação."
   ]
  },
  {
   "cell_type": "code",
   "execution_count": null,
   "metadata": {},
   "outputs": [],
   "source": [
    "# Filtrar os 10 filmes com maior NÚMERO de avaliações 5 estrelas, listando-os pelo título:\n",
    "top_5star_movies = ratings_movies[ratings_movies['rating'] > 4.5]['title'].value_counts()[0:10]\n",
    "top_5star_movies"
   ]
  },
  {
   "cell_type": "code",
   "execution_count": null,
   "metadata": {},
   "outputs": [],
   "source": [
    "# Os 20 filmes com maior MÉDIA de estrelas, listando-os pelo título:\n",
    "top_meanstar = ratings_movies.groupby('title').agg({'rating': [np.size, np.mean]})\n",
    "top_meanstar.sort_values([('rating', 'mean')], ascending=False).head(20)"
   ]
  },
  {
   "cell_type": "markdown",
   "metadata": {},
   "source": [
    "##### Diferença entre usar o número de avaliações 5 estrelas e a média de estrelas por filme:\n",
    "\n",
    "Ao utilizar a número de avaliações 5 estrelas nós selecionamos os títulos mais populares e bem avaliados, entretanto, podem ficar subamostrados os bons títulos mas com poucas avaliações. Neste ponto supre tal necessidade o uso da média de estrelas por título, mas este último método também oferece a desvantagem de selecionar títulos que não são populares e também títulos que tiveram pouquissimas avaliações, contudo positivas. Por isso, decidiu-se utilizar o número de avaliações 5 estrelas como forma de selecionar filmes bons e populares, sem o risco de oferecer filmes de pouco interesse geral."
   ]
  },
  {
   "cell_type": "code",
   "execution_count": null,
   "metadata": {
    "collapsed": true
   },
   "outputs": [],
   "source": []
  },
  {
   "cell_type": "markdown",
   "metadata": {},
   "source": [
    "### Questões relacionadas aos gêneros\n",
    "\n",
    "* Quais os filmes com mais avaliações 5 estrelas dentro de cada gênero?\n",
    "\n",
    "* Quando agregado outro gênero estes filmes mudam radicalmente?\n"
   ]
  },
  {
   "cell_type": "code",
   "execution_count": null,
   "metadata": {},
   "outputs": [],
   "source": [
    "# Um exemplo para filtrar os filmes por gênero e por mais avaliações 5 estrelas, listando-os pelo título:\n",
    "top_5star_drama = ratings_movies[ratings_movies['genres'].str.contains('Drama')][ratings_movies['rating'] > 4.5]['title'].value_counts()[0:10]\n",
    "top_5star_drama"
   ]
  },
  {
   "cell_type": "code",
   "execution_count": null,
   "metadata": {},
   "outputs": [],
   "source": [
    "# Um exemplo para filtrar os filmes por mais de um gênero e por mais avaliações 5 estrelas, listando-os pelo título:\n",
    "top_5star_drama_romance = ratings_movies[ratings_movies['genres'].str.contains('Drama' and 'Romance')][ratings_movies['rating'] > 4.5]['title'].value_counts()[0:10]\n",
    "top_5star_drama_romance"
   ]
  },
  {
   "cell_type": "code",
   "execution_count": null,
   "metadata": {},
   "outputs": [],
   "source": [
    "top_5star_drama_crime = ratings_movies[ratings_movies['genres'].str.contains('Drama' and 'Crime')][ratings_movies['rating'] > 4.5]['title'].value_counts()[0:10]\n",
    "top_5star_drama_crime"
   ]
  },
  {
   "cell_type": "markdown",
   "metadata": {},
   "source": [
    "Através das duas listas de filmes geradas observamos que a inclusão de um segundo gênero muda sensivelmente os filmes no ranking. Se tal observação se repetir para outras combinações de gêneros, devemos considerar que talvez um gênero não seja o suficiente para geram uma lista de recomendações de filmes para um determinado usuário. "
   ]
  },
  {
   "cell_type": "markdown",
   "metadata": {},
   "source": [
    "### Questões relacionadas a preferência por gênero\n",
    "\n",
    "* Usuários avaliam apenas um gênero, ou mais gêneros? Eles gostam desses gêneros? O quão importante é o gênero na escolha e avaliação do filme?\n",
    "\n",
    "Para responder a tal pergunta nós seguiremos as seguintes etapas: \n",
    "\n",
    " 1. Determinar o número de avaliações por gênero e usuário\n",
    " \n",
    " 2. Determinar a participação de cada gênero no número de avaliações de cada usuário\n",
    " \n",
    " 3. Encontrar quais os gêneros que compõe a maior parte das avaliações do usuário\n",
    " \n",
    " 4. Determinar a avaliação média do usuário para cada gênero identificado\n",
    " \n",
    " 5. Metrificar a importância do gênero na escolha e na avaliação do filme através dos dados anteriores, por exemplo a média de número de gêneros considerados importantes e a médias das avaliações em tais gêneros.\n",
    "\n"
   ]
  },
  {
   "cell_type": "code",
   "execution_count": null,
   "metadata": {},
   "outputs": [],
   "source": [
    "# 1. Determinando o número de avaliações por gênero para cada usuário\n",
    "\n",
    "# 1a) definindo todos os gêneros que existem:\n",
    "genre_labels = set()\n",
    "for s in ratings_movies['genres'].str.split('|').values:\n",
    "    genre_labels = genre_labels.union(set(s))\n",
    "\n",
    "# 1b) desmembrando todos os gêneros em colunas separadas\n",
    "genres_df = pd.DataFrame(dict((genre, ratings_movies['genres'].str.contains(genre, re.IGNORECASE))\n",
    "                             for genre in genre_labels))\n",
    "ratings_movies_expand = genres_df.join(ratings_movies)\n",
    "\n",
    "# 1c) contar quantas vezes os gêneros são verdadeiros por usuário\n",
    "n_gen_user = ratings_movies_expand.groupby('userId').agg({genre:[np.sum] for genre in genre_labels})"
   ]
  },
  {
   "cell_type": "code",
   "execution_count": null,
   "metadata": {
    "collapsed": true
   },
   "outputs": [],
   "source": [
    "# 2. Determinando a participação percentual de cada gênero no número de avaliações de cada usuário\n",
    "n_gen_user['total'] = n_gen_user.apply(sum, axis=1)\n",
    "tax_gen_user = n_gen_user.div(n_gen_user['total'], axis=0).mul(100)"
   ]
  },
  {
   "cell_type": "code",
   "execution_count": null,
   "metadata": {},
   "outputs": [],
   "source": [
    "# 3. Encontrando qual(is) gênero(s) que compõe(m) a maior parte das avaliações do usuário\n",
    "tax_pref = tax_gen_user.drop('total', axis=1)\n",
    "preference = pd.DataFrame()\n",
    "preference['genre_max'] = tax_pref.apply(np.argmax, axis=1)\n",
    "preference['value_max'] = tax_pref.apply(np.amax, axis=1)\n",
    "\n",
    "preference.head()"
   ]
  },
  {
   "cell_type": "code",
   "execution_count": null,
   "metadata": {
    "collapsed": true
   },
   "outputs": [],
   "source": [
    "i=0\n",
    "for i in range(len(preference['genre_max'])):\n",
    "    tax_pref.iloc[i,'genre_max'] == 0"
   ]
  },
  {
   "cell_type": "code",
   "execution_count": null,
   "metadata": {
    "collapsed": true
   },
   "outputs": [],
   "source": [
    "# 4. Determinar a avaliação média do usuário para cada gênero identificado"
   ]
  },
  {
   "cell_type": "code",
   "execution_count": null,
   "metadata": {
    "collapsed": true
   },
   "outputs": [],
   "source": [
    "# 5. Metrificar a importância do gênero na escolha e na avaliação do filme"
   ]
  },
  {
   "cell_type": "markdown",
   "metadata": {},
   "source": [
    "## Passo 3) Sistema de recomendação\n",
    "\n",
    "O sistema de recomendação será baseado primeiramente no(s) gênero(s) que o usuário mais avalia, e depois no número de avaliações 5 estrelas dadas pelo universo de usuários.\n",
    "\n",
    "O sistema seguirá os seguintes passos:\n",
    "\n",
    "1. Filtrar lista de filmes que possuem o(s) gênero(s) de preferência do usuário e avaliação maior que 4.5\n",
    "\n",
    "2. Excluir os filmes que o usuário já assitiu\n",
    "\n",
    "3. Fazer um ranking desta lista de filmes de acordo com o número de avaliações 5 estrelas\n",
    "\n",
    "4. Sugerir os filmes no topo do ranking (1 ou mais)"
   ]
  },
  {
   "cell_type": "code",
   "execution_count": null,
   "metadata": {
    "scrolled": false
   },
   "outputs": [],
   "source": [
    "# exemplo com um usuário:\n",
    "user = 3\n",
    "pref_genre = 'Sci-Fi'\n",
    "\n",
    "# 1. Filtrar lista de filmes que possuem o gênero definido e avaliação 5 estrelas\n",
    "suggestion = ratings_movies[ratings_movies['genres'].str.contains(pref_genre)][ratings_movies['rating'] > 4.5]\n",
    "\n",
    "# 2. Excluir o que o usuário já assistiu\n",
    "viewed = ratings_movies[ratings_movies['userId'] == user]['movieId']\n",
    "\n",
    "for movie in viewed:\n",
    "    suggestion = suggestion[suggestion['movieId'] != movie]\n",
    "\n",
    "# 3 e 4. Rankear pelo maior número de avaliações 5 estrelas e sugerir os melhores\n",
    "n_suggestions = 5\n",
    "final_suggestion = suggestion['title'].value_counts()[:n_suggestions]\n",
    "final_suggestion"
   ]
  },
  {
   "cell_type": "code",
   "execution_count": null,
   "metadata": {
    "collapsed": true
   },
   "outputs": [],
   "source": []
  },
  {
   "cell_type": "markdown",
   "metadata": {},
   "source": [
    "## Passo 3) Avaliação\n",
    "\n",
    "Para fazer a avaliação será utilizado o conjunto de teste definido no início. Este conjunto contém avaliações de todos os usuários em um percentual de 30% em relação ao total de avaliações. \n",
    "A avaliação seguirá os seguintes passos.\n",
    "\n",
    "1. Determinar se os filmes sugeridos constam no conjunto de teste para cada usuário.\n",
    "\n",
    "2. Se houver filmes sugeridos no conjunto de testes, somar e fazer a média do número de estrelas dadas a estes filmes pelo usuário.\n",
    "\n",
    "Estes números obtidos para cada usuário para cada usuário poderá ser manipulado para se tornar um índice único para avaliação do sistema ou avaliado para todos os usuários correlacionando-os com outros dados como o gênero de preferência, ou ainda ao índice de importância do gênero definido na exploração inicial dos dados.\n"
   ]
  },
  {
   "cell_type": "code",
   "execution_count": null,
   "metadata": {},
   "outputs": [],
   "source": [
    "# 1. Determinar se os filmes sugeridos constam no conjunto de teste para cada usuário\n",
    "\n",
    "# 1a) Listar as avaliações do conjunto de testes do usuário.\n",
    "test_viewed = ratings_movies_test[ratings_movies_test['userId'] == user] \n",
    "\n",
    "# 1b) Verificar o que foi sugerido pelo sistema de recomendação \n",
    "evaluate = np.zeros(len(test_viewed), dtype=bool)\n",
    "i = 0\n",
    "for movie in test_viewed['title']:\n",
    "    evaluate[i] = movie in final_suggestion\n",
    "    i = i+1\n",
    "test_viewed['saw'] = evaluate\n",
    "test_viewed.head()"
   ]
  },
  {
   "cell_type": "code",
   "execution_count": null,
   "metadata": {},
   "outputs": [],
   "source": [
    "# 2. Se houver filmes sugeridos no conjunto de testes, somar o número de estrelas dadas a estes filmes pelo usuário.\n",
    "sum_rating_sugg = test_viewed[test_viewed['saw'] == True]['rating'].sum()\n",
    "mean_rating_sugg = test_viewed[test_viewed['saw'] == True]['rating'].mean()\n",
    "print('Soma das estrelas dadas aos filmes sugeridos: ', sum_rating_sugg, 'de 25.0')\n",
    "print('Média de estrelas dadas aos filmes sugeridos: ', mean_rating_sugg)"
   ]
  },
  {
   "cell_type": "code",
   "execution_count": null,
   "metadata": {
    "collapsed": true
   },
   "outputs": [],
   "source": []
  }
 ],
 "metadata": {
  "kernelspec": {
   "display_name": "Python 3",
   "language": "python",
   "name": "python3"
  },
  "language_info": {
   "codemirror_mode": {
    "name": "ipython",
    "version": 3
   },
   "file_extension": ".py",
   "mimetype": "text/x-python",
   "name": "python",
   "nbconvert_exporter": "python",
   "pygments_lexer": "ipython3",
   "version": "3.6.1"
  }
 },
 "nbformat": 4,
 "nbformat_minor": 2
}
